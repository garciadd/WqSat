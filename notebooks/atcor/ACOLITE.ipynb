{
 "cells": [
  {
   "cell_type": "code",
   "execution_count": 1,
   "id": "ba38c7aa",
   "metadata": {},
   "outputs": [],
   "source": [
    "import sys, os, time\n",
    "\n",
    "user_home = os.path.expanduser(\"/wq_sat\")\n",
    "sys.path.append(os.path.join(user_home, 'acolite'))\n",
    "import acolite as ac\n",
    "\n",
    "from wq_sat import config"
   ]
  },
  {
   "cell_type": "code",
   "execution_count": 8,
   "id": "c8c4bdf8",
   "metadata": {},
   "outputs": [],
   "source": [
    "tiles = [\"S2B_MSIL1C_20230612T105629_N0509_R094_T30TWM_20230612T113811\",\n",
    "         \"S2B_MSIL1C_20230811T105629_N0509_R094_T30TWM_20230811T144220\",\n",
    "         \"S2B_MSIL1C_20230910T105629_N0509_R094_T30TWM_20230910T131423\"]"
   ]
  },
  {
   "cell_type": "code",
   "execution_count": 9,
   "id": "4f24a77f-c2eb-4b86-9923-ef51c1978f4f",
   "metadata": {},
   "outputs": [
    {
     "name": "stdout",
     "output_type": "stream",
     "text": [
      "['/wq_sat/data/SENTINEL-2/S2MSI1C/S2B_MSIL1C_20230612T105629_N0509_R094_T30TWM_20230612T113811.SAFE', '/wq_sat/data/SENTINEL-2/S2MSI1C/S2B_MSIL1C_20230811T105629_N0509_R094_T30TWM_20230811T144220.SAFE', '/wq_sat/data/SENTINEL-2/S2MSI1C/S2B_MSIL1C_20230910T105629_N0509_R094_T30TWM_20230910T131423.SAFE']\n",
      "['/wq_sat/data/SENTINEL-2/ACOLITE/S2B_MSIL1C_20230612T105629_N0509_R094_T30TWM_20230612T113811', '/wq_sat/data/SENTINEL-2/ACOLITE/S2B_MSIL1C_20230811T105629_N0509_R094_T30TWM_20230811T144220', '/wq_sat/data/SENTINEL-2/ACOLITE/S2B_MSIL1C_20230910T105629_N0509_R094_T30TWM_20230910T131423']\n"
     ]
    }
   ],
   "source": [
    "input_path = []\n",
    "output_path = []\n",
    "\n",
    "for i, tile in enumerate(tiles):\n",
    "    input_path.append(config.tile_path(tile))\n",
    "    output_path.append(config.acolite_path(tile))\n",
    "\n",
    "print(input_path)\n",
    "print(output_path)"
   ]
  },
  {
   "cell_type": "code",
   "execution_count": 7,
   "id": "3b13be61-580c-438b-a813-edb271143388",
   "metadata": {},
   "outputs": [
    {
     "data": {
      "text/plain": [
       "list"
      ]
     },
     "execution_count": 7,
     "metadata": {},
     "output_type": "execute_result"
    }
   ],
   "source": [
    "type(settings['output'])"
   ]
  },
  {
   "cell_type": "code",
   "execution_count": 5,
   "id": "d86bdfa3-b4d0-4760-a2cc-fb9d6c2de1e9",
   "metadata": {},
   "outputs": [
    {
     "name": "stdout",
     "output_type": "stream",
     "text": [
      "['/wq_sat/data/SENTINEL-2/S2MSI1C/S2B_MSIL1C_20230612T105629_N0509_R094_T30TWM_20230612T113811.SAFE', '/wq_sat/data/SENTINEL-2/S2MSI1C/S2B_MSIL1C_20230811T105629_N0509_R094_T30TWM_20230811T144220.SAFE', '/wq_sat/data/SENTINEL-2/S2MSI1C/S2B_MSIL1C_20230910T105629_N0509_R094_T30TWM_20230910T131423.SAFE']\n",
      "['/wq_sat/data/SENTINEL-2/ACOLITE/S2B_MSIL1C_20230612T105629_N0509_R094_T30TWM_20230612T113811', '/wq_sat/data/SENTINEL-2/ACOLITE/S2B_MSIL1C_20230811T105629_N0509_R094_T30TWM_20230811T144220', '/wq_sat/data/SENTINEL-2/ACOLITE/S2B_MSIL1C_20230910T105629_N0509_R094_T30TWM_20230910T131423']\n"
     ]
    }
   ],
   "source": [
    "input_path = []\n",
    "output_path = []\n",
    "\n",
    "for i, tile in enumerate(tiles):\n",
    "    input_path.append(config.tile_path(tile))\n",
    "    output_path.append(config.acolite_path(tile))\n",
    "\n",
    "print(input_path)\n",
    "print(output_path)\n",
    "\n",
    "## ACOLITE settings\n",
    "settings = {\"inputfile\":input_path,\n",
    "            \"output\":output_path,\n",
    "            \n",
    "            ## atmospheric correction algorithms\n",
    "            \"aerosol_correction\":\"dark_spectrum\",\n",
    "            \"dsf_aot_estimate\":\"tiled\",\n",
    "\n",
    "            ## output l2w parameters\n",
    "            \"l2w_parameters\":[\"Rrs_*\", \"chl_oc3\"],\n",
    "\n",
    "            ## output resolution (S2 only 10, 20, or 60 m) \n",
    "            \"s2_target_res\":10,\n",
    "\n",
    "            ## increase default L2W masking threshold\n",
    "            \"l2w_mask_threshold\":0.05,\n",
    "            \"l2w_mask_negative_rhow\":True,\n",
    "            \"dsf_residual_glint_correction\":True,\n",
    "\n",
    "            ## output RGB / L2W maps\n",
    "            \"rgb_rhot\":False,\n",
    "            \"rgb_rhos\":False,\n",
    "            \"map_l2w\":False,\n",
    "\n",
    "            ## GeoTIFF export options\n",
    "            \"l2r_export_geotiff\":False,\n",
    "            \"l2w_export_geotiff\":True,\n",
    "           \n",
    "            ## Deletion of NetCDF files\n",
    "            \"l1r_delete_netcdf\":True,\n",
    "            \"l2r_delete_netcdf\":True,\n",
    "            \"l2w_delete_netcdf\":True,\n",
    "           \n",
    "            ##amount of detail in the terminal outputs\n",
    "            \"verbosity\":2}\n",
    "\n",
    "#ac.acolite.acolite_run(settings=settings)"
   ]
  },
  {
   "cell_type": "code",
   "execution_count": null,
   "id": "21fb7d45",
   "metadata": {},
   "outputs": [],
   "source": []
  }
 ],
 "metadata": {
  "kernelspec": {
   "display_name": "Python 3 (ipykernel)",
   "language": "python",
   "name": "python3"
  },
  "language_info": {
   "codemirror_mode": {
    "name": "ipython",
    "version": 3
   },
   "file_extension": ".py",
   "mimetype": "text/x-python",
   "name": "python",
   "nbconvert_exporter": "python",
   "pygments_lexer": "ipython3",
   "version": "3.10.12"
  }
 },
 "nbformat": 4,
 "nbformat_minor": 5
}
