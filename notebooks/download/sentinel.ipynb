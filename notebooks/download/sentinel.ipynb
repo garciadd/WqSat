{
 "cells": [
  {
   "cell_type": "code",
   "execution_count": 1,
   "id": "19b3f41a",
   "metadata": {},
   "outputs": [],
   "source": [
    "import time\n",
    "import datetime\n",
    "import pandas as pd\n",
    "\n",
    "from wq_sat import config\n",
    "from wq_sat.download import sentinel"
   ]
  },
  {
   "cell_type": "markdown",
   "id": "b703d751-6786-436c-8199-99d3d3511be1",
   "metadata": {},
   "source": [
    "## Download Sentinel-2"
   ]
  },
  {
   "cell_type": "code",
   "execution_count": null,
   "id": "45533b97-c921-4ccc-9e21-ef342306d34d",
   "metadata": {},
   "outputs": [],
   "source": [
    "# Download Sentinel-2:\n",
    "region = 'CdP'\n",
    "coord = config.load_coordinates(region)\n",
    "\n",
    "sd = '2023-06-10'\n",
    "ed = '2023-06-15'\n",
    "print ('region: {}'.format(region))\n",
    "print ('tiles between {} and {}'.format(sd, ed))\n",
    "\n",
    "args = {'inidate':datetime.datetime.strptime(sd, \"%Y-%m-%d\"),\n",
    "        'enddate':datetime.datetime.strptime(ed, \"%Y-%m-%d\"),\n",
    "        'coordinates':coord,\n",
    "        'platform': 'Sentinel-2',\n",
    "        'producttype':'S2MSI1C',\n",
    "        'cloud':90}\n",
    "\n",
    "#download sentinel files\n",
    "s2 = sentinel.download(**args)\n",
    "downloaded, pending = s2.download()"
   ]
  },
  {
   "cell_type": "markdown",
   "id": "054f1152-bca3-4ade-90f3-6442e8a58efe",
   "metadata": {},
   "source": [
    "## Download Sentinel-3"
   ]
  },
  {
   "cell_type": "code",
   "execution_count": null,
   "id": "8ec0d405-8835-4353-8c15-9b4ad833c82c",
   "metadata": {},
   "outputs": [],
   "source": [
    "# Download Sentinel-3:\n",
    "region = 'CdP'\n",
    "coord = config.load_coordinates(region)\n",
    "\n",
    "sd = '2023-04-10'\n",
    "ed = '2023-04-25'\n",
    "print ('region: {}'.format(region))\n",
    "print ('tiles between {} and {}'.format(sd, ed))\n",
    "\n",
    "args = {'inidate':datetime.datetime.strptime(sd, \"%Y-%m-%d\"),\n",
    "        'enddate':datetime.datetime.strptime(ed, \"%Y-%m-%d\"),\n",
    "        'coordinates':coord,\n",
    "        'platform': 'SENTINEL-3',\n",
    "        'producttype':'OL_1_EFR___',\n",
    "        'cloud':90}\n",
    "\n",
    "#download sentinel files\n",
    "s3 = sentinel.download(**args)\n",
    "downloaded, pending = s3.download()"
   ]
  },
  {
   "cell_type": "code",
   "execution_count": null,
   "id": "3dac8260-1713-4d32-8392-75b1b0525a72",
   "metadata": {},
   "outputs": [],
   "source": []
  }
 ],
 "metadata": {
  "kernelspec": {
   "display_name": "Python 3 (ipykernel)",
   "language": "python",
   "name": "python3"
  },
  "language_info": {
   "codemirror_mode": {
    "name": "ipython",
    "version": 3
   },
   "file_extension": ".py",
   "mimetype": "text/x-python",
   "name": "python",
   "nbconvert_exporter": "python",
   "pygments_lexer": "ipython3",
   "version": "3.10.12"
  }
 },
 "nbformat": 4,
 "nbformat_minor": 5
}
