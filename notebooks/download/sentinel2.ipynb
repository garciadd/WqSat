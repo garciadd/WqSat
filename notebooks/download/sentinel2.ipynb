{
 "cells": [
  {
   "cell_type": "code",
   "execution_count": 1,
   "id": "19b3f41a",
   "metadata": {},
   "outputs": [],
   "source": [
    "import time\n",
    "import datetime\n",
    "import pandas as pd\n",
    "\n",
    "from wq_sat import config\n",
    "from wq_sat.download import sentinel"
   ]
  },
  {
   "cell_type": "code",
   "execution_count": null,
   "id": "fe59a652",
   "metadata": {},
   "outputs": [
    {
     "name": "stdout",
     "output_type": "stream",
     "text": [
      "region: CdP\n",
      "tiles between 2023-06-10 and 2023-06-15\n",
      "Retrieving 1 results \n",
      "\n",
      "Authorized OK\n",
      "Product online? True\n",
      "Downloading https://catalogue.dataspace.copernicus.eu/odata/v1/Products(83ffca70-141b-4fc0-8e92-70b6fde78258)/$value\n"
     ]
    }
   ],
   "source": [
    "# Download Sentinel-2:\n",
    "region = 'CdP'\n",
    "coord = config.load_coordinates(region)\n",
    "\n",
    "sd = '2023-06-10'\n",
    "ed = '2023-06-15'\n",
    "print ('region: {}'.format(region))\n",
    "print ('tiles between {} and {}'.format(sd, ed))\n",
    "\n",
    "args = {'inidate':datetime.datetime.strptime(sd, \"%Y-%m-%d\"),\n",
    "        'enddate':datetime.datetime.strptime(ed, \"%Y-%m-%d\"),\n",
    "        'coordinates':coord,\n",
    "        'platform': 'Sentinel-2',\n",
    "        'producttype':'S2MSI1C',\n",
    "        'cloud':90}\n",
    "\n",
    "#download sentinel files\n",
    "s2 = sentinel.download(**args)\n",
    "\n",
    "cont = True\n",
    "time_sleep = 3600\n",
    "\n",
    "while cont:\n",
    "    \n",
    "    hora_actual = datetime.datetime.now()    \n",
    "    downloaded, pending = s2.download()\n",
    "    \n",
    "    if len(pending) > 0:\n",
    "        time.sleep(time_sleep)\n",
    "        continue\n",
    "    else:\n",
    "        cont = False"
   ]
  },
  {
   "cell_type": "code",
   "execution_count": null,
   "id": "8ec0d405-8835-4353-8c15-9b4ad833c82c",
   "metadata": {},
   "outputs": [],
   "source": [
    "# Download Sentinel-3:\n",
    "region = 'CdP'\n",
    "coord = config.load_coordinates(region)\n",
    "\n",
    "sd = '2023-04-10'\n",
    "ed = '2023-04-25'\n",
    "print ('region: {}'.format(region))\n",
    "print ('tiles between {} and {}'.format(sd, ed))\n",
    "\n",
    "args = {'inidate':datetime.datetime.strptime(sd, \"%Y-%m-%d\"),\n",
    "        'enddate':datetime.datetime.strptime(ed, \"%Y-%m-%d\"),\n",
    "        'coordinates':coord,\n",
    "        'platform': 'SENTINEL-3',\n",
    "        'producttype':'OL_1_EFR___',\n",
    "        'cloud':90}\n",
    "\n",
    "#download sentinel files\n",
    "s2 = sentinel.download(**args)\n",
    "\n",
    "cont = True\n",
    "time_sleep = 3600\n",
    "\n",
    "while cont:\n",
    "    \n",
    "    hora_actual = datetime.datetime.now()    \n",
    "    downloaded, pending = s2.download()\n",
    "    \n",
    "    if len(pending) > 0:\n",
    "        time.sleep(time_sleep)\n",
    "        continue\n",
    "    else:\n",
    "        cont = False"
   ]
  },
  {
   "cell_type": "code",
   "execution_count": null,
   "id": "3dac8260-1713-4d32-8392-75b1b0525a72",
   "metadata": {},
   "outputs": [],
   "source": []
  }
 ],
 "metadata": {
  "kernelspec": {
   "display_name": "Python 3 (ipykernel)",
   "language": "python",
   "name": "python3"
  },
  "language_info": {
   "codemirror_mode": {
    "name": "ipython",
    "version": 3
   },
   "file_extension": ".py",
   "mimetype": "text/x-python",
   "name": "python",
   "nbconvert_exporter": "python",
   "pygments_lexer": "ipython3",
   "version": "3.10.12"
  }
 },
 "nbformat": 4,
 "nbformat_minor": 5
}
